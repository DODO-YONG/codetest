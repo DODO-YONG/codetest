{
 "cells": [
  {
   "cell_type": "markdown",
   "metadata": {},
   "source": [
    "# chapter 2-1"
   ]
  },
  {
   "cell_type": "markdown",
   "metadata": {},
   "source": [
    "## 51 : merge sort를 만들어보자\n",
    "- 1. 리스트의 길이가 0 또는 1이면 이미 정렬된 것으로 본다. 그렇지 않은 경우에는\n",
    "- 2. 정렬되지 않은 리스트를 절반으로 잘라 비슷한 크기의 두 부분 리스트로 나눈다.\n",
    "- 3. 각 부분 리스트를 재귀적으로 합병 정렬을 이용해 정렬한다.\n",
    "- 4. 두부분 리스트를 다시 하나의 정렬된 리스트로 합병한다."
   ]
  },
  {
   "cell_type": "code",
   "execution_count": null,
   "metadata": {},
   "outputs": [],
   "source": [
    "#병합 정렬\n",
    "def 병합정렬(입력리스트):\n",
    "    입력리스트의 길이 = len(입력리스트)\n",
    "    if 입력리스트의 길이 <= 1:\n",
    "        return 입력리스트\n",
    "    중간값 = 입력리스트길이 // 2\n",
    "    그룹_하나 = 병합정렬(입력리스트[:중간값])\n",
    "    그룹_둘 = 병합정렬(입력리스트[중간값:])\n",
    "    결과값 = []\n",
    "    \n",
    "    while (#빈칸을 채워주세요) and (#빈칸을 채워주세요) :\n",
    "        if (#빈칸을 채워주세요):\n",
    "            결과값.append(그룹_하나.pop(0))\n",
    "        else:\n",
    "            결과값.append(그룹_둘.pop(0))\n",
    "            \n",
    "    while 그룹_하나:\n",
    "        결과값.append(그룹_하나.pop(0))\n",
    "    while 그룹_둘:\n",
    "        결과값.append(그룹_둘.pop(0))\n",
    "    return 결과값\n",
    "            \n",
    "주어진리스트 = [180, 145, 165, 45, 170, 175, 173, 171]\n",
    "#빈칸을 채워주세요\n",
    "            \n",
    "print(병합정렬(주어진리스트))"
   ]
  },
  {
   "cell_type": "code",
   "execution_count": 11,
   "metadata": {},
   "outputs": [
    {
     "name": "stdout",
     "output_type": "stream",
     "text": [
      "[45, 145, 165, 170, 171, 173, 175, 180]\n"
     ]
    }
   ],
   "source": [
    "#병합 정렬\n",
    "def merge_sort(x):\n",
    "    len_x = len(x)\n",
    "    if len_x <= 1:\n",
    "        return x\n",
    "    mid = len_x // 2\n",
    "    group_1 = merge_sort(x[:mid])\n",
    "    group_2 = merge_sort(x[mid:])\n",
    "    result = []\n",
    "    \n",
    "    while (group_1) and (group_2) :\n",
    "        if (group_1[0] < group_2[0]):\n",
    "            result.append(group_1.pop(0))\n",
    "        else:\n",
    "            result.append(group_2.pop(0))\n",
    "            \n",
    "    while group_1:\n",
    "        result.append(group_1.pop(0))\n",
    "    while group_2:\n",
    "        result.append(group_2.pop(0))\n",
    "    return result\n",
    "            \n",
    "ls = [180, 145, 165, 170, 45, 175, 173, 171]\n",
    "            \n",
    "print(merge_sort(ls))"
   ]
  },
  {
   "cell_type": "markdown",
   "metadata": {},
   "source": [
    "## 문제 52 : quick sort\n",
    "- 다음 빈 칸을 채워 퀵 정렬을 완성해 주세요"
   ]
  },
  {
   "cell_type": "code",
   "execution_count": null,
   "metadata": {},
   "outputs": [],
   "source": [
    "def 퀵정렬(입력리스트):\n",
    "    입력리스트의길이 = len(입력리스트)\n",
    "    if 입력리스트의길이 < =  1:\n",
    "        return 입력리스트\n",
    "    기준값 = 입력리스트.pop(입력리스트의길이//2)\n",
    "    그룹_하나 = []\n",
    "    그룹_둘 = []\n",
    "    \n",
    "    for i in range(입력리스트의길이-1):\n",
    "        if #내용을 채워주세요:\n",
    "            그룹_하나.append(입력리스트[i])\n",
    "        else:\n",
    "            그룹_둘.append(입력리스트[i])\n",
    "    return # 내용을 채워주세요\n",
    "\n",
    "주어진리스트= input().split(' ')\n",
    "# 내용을 채워주세요.\n",
    "\n",
    "print(퀵정렬(주어진리스트)"
   ]
  },
  {
   "cell_type": "code",
   "execution_count": null,
   "metadata": {},
   "outputs": [],
   "source": [
    "def quick_sort(x):\n",
    "    len_x = len(x)\n",
    "    if len_x < =  1:\n",
    "        return x\n",
    "    mid = x.pop(len_x//2)\n",
    "    group_1 = []\n",
    "    group_2 = []\n",
    "    \n",
    "    for i in range(len_x-1):\n",
    "        if #내용을 채워주세요:\n",
    "            group_1.append(x[i])\n",
    "        else:\n",
    "            group_2.append(x[i])\n",
    "    return # 내용을 채워주세요\n",
    "\n",
    "ls= input().split(' ')\n",
    "# 내용을 채워주세요.\n",
    "\n",
    "print(quick_sort(ls)"
   ]
  }
 ],
 "metadata": {
  "kernelspec": {
   "display_name": "Python 3",
   "language": "python",
   "name": "python3"
  },
  "language_info": {
   "codemirror_mode": {
    "name": "ipython",
    "version": 3
   },
   "file_extension": ".py",
   "mimetype": "text/x-python",
   "name": "python",
   "nbconvert_exporter": "python",
   "pygments_lexer": "ipython3",
   "version": "3.7.7"
  },
  "toc": {
   "base_numbering": 1,
   "nav_menu": {},
   "number_sections": true,
   "sideBar": true,
   "skip_h1_title": false,
   "title_cell": "Table of Contents",
   "title_sidebar": "Contents",
   "toc_cell": false,
   "toc_position": {},
   "toc_section_display": true,
   "toc_window_display": false
  }
 },
 "nbformat": 4,
 "nbformat_minor": 4
}
