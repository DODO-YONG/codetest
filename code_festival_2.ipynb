{
 "cells": [
  {
   "cell_type": "markdown",
   "metadata": {},
   "source": [
    "# chapter 2-1"
   ]
  },
  {
   "cell_type": "markdown",
   "metadata": {},
   "source": [
    "## 51 : merge sort를 만들어보자\n",
    "- 1. 리스트의 길이가 0 또는 1이면 이미 정렬된 것으로 본다. 그렇지 않은 경우에는\n",
    "- 2. 정렬되지 않은 리스트를 절반으로 잘라 비슷한 크기의 두 부분 리스트로 나눈다.\n",
    "- 3. 각 부분 리스트를 재귀적으로 합병 정렬을 이용해 정렬한다.\n",
    "- 4. 두부분 리스트를 다시 하나의 정렬된 리스트로 합병한다."
   ]
  },
  {
   "cell_type": "code",
   "execution_count": null,
   "metadata": {},
   "outputs": [],
   "source": [
    "#병합 정렬\n",
    "def 병합정렬(입력리스트):\n",
    "    입력리스트의 길이 = len(입력리스트)\n",
    "    if 입력리스트의 길이 <= 1:\n",
    "        return 입력리스트\n",
    "    중간값 = 입력리스트길이 // 2\n",
    "    그룹_하나 = 병합정렬(입력리스트[:중간값])\n",
    "    그룹_둘 = 병합정렬(입력리스트[중간값:])\n",
    "    결과값 = []\n",
    "    \n",
    "    while (#빈칸을 채워주세요) and (#빈칸을 채워주세요) :\n",
    "        if (#빈칸을 채워주세요):\n",
    "            결과값.append(그룹_하나.pop(0))\n",
    "        else:\n",
    "            결과값.append(그룹_둘.pop(0))\n",
    "            \n",
    "    while 그룹_하나:\n",
    "        결과값.append(그룹_하나.pop(0))\n",
    "    while 그룹_둘:\n",
    "        결과값.append(그룹_둘.pop(0))\n",
    "    return 결과값\n",
    "            \n",
    "주어진리스트 = [180, 145, 165, 45, 170, 175, 173, 171]\n",
    "#빈칸을 채워주세요\n",
    "            \n",
    "print(병합정렬(주어진리스트))"
   ]
  },
  {
   "cell_type": "code",
   "execution_count": 11,
   "metadata": {},
   "outputs": [
    {
     "name": "stdout",
     "output_type": "stream",
     "text": [
      "[45, 145, 165, 170, 171, 173, 175, 180]\n"
     ]
    }
   ],
   "source": [
    "#병합 정렬\n",
    "def merge_sort(x):\n",
    "    len_x = len(x)\n",
    "    if len_x <= 1:\n",
    "        return x\n",
    "    mid = len_x // 2\n",
    "    group_1 = merge_sort(x[:mid])\n",
    "    group_2 = merge_sort(x[mid:])\n",
    "    result = []\n",
    "    \n",
    "    while (group_1) and (group_2) :\n",
    "        if (group_1[0] < group_2[0]):\n",
    "            result.append(group_1.pop(0))\n",
    "        else:\n",
    "            result.append(group_2.pop(0))\n",
    "            \n",
    "    while group_1:\n",
    "        result.append(group_1.pop(0))\n",
    "    while group_2:\n",
    "        result.append(group_2.pop(0))\n",
    "    return result\n",
    "            \n",
    "ls = [180, 145, 165, 170, 45, 175, 173, 171]\n",
    "            \n",
    "print(merge_sort(ls))"
   ]
  },
  {
   "cell_type": "markdown",
   "metadata": {},
   "source": [
    "## 문제 52 : quick sort\n",
    "- 다음 빈 칸을 채워 퀵 정렬을 완성해 주세요"
   ]
  },
  {
   "cell_type": "code",
   "execution_count": null,
   "metadata": {},
   "outputs": [],
   "source": [
    "def 퀵정렬(입력리스트):\n",
    "    입력리스트의길이 = len(입력리스트)\n",
    "    if 입력리스트의길이 < =  1:\n",
    "        return 입력리스트\n",
    "    기준값 = 입력리스트.pop(입력리스트의길이//2)\n",
    "    그룹_하나 = []\n",
    "    그룹_둘 = []\n",
    "    \n",
    "    for i in range(입력리스트의길이-1):\n",
    "        if #내용을 채워주세요:\n",
    "            그룹_하나.append(입력리스트[i])\n",
    "        else:\n",
    "            그룹_둘.append(입력리스트[i])\n",
    "    return # 내용을 채워주세요\n",
    "\n",
    "주어진리스트= input().split(' ')\n",
    "# 내용을 채워주세요.\n",
    "\n",
    "print(퀵정렬(주어진리스트)"
   ]
  },
  {
   "cell_type": "code",
   "execution_count": 11,
   "metadata": {},
   "outputs": [
    {
     "name": "stdout",
     "output_type": "stream",
     "text": [
      "[1, 2, 3, 4, 5, 7]\n"
     ]
    }
   ],
   "source": [
    "def quick_sort(x):\n",
    "    len_x = len(x)\n",
    "    if len_x <=  1:\n",
    "        return x\n",
    "    mid = x.pop(len_x//2)\n",
    "    group_1 = []\n",
    "    group_2 = []\n",
    "    \n",
    "    for i in range(len_x-1):\n",
    "        if x[i] > mid:\n",
    "            group_1.append(x[i])\n",
    "        else:\n",
    "            group_2.append(x[i])\n",
    "    return quick_sort(group_2) +[mid] +quick_sort(group_1)\n",
    "\n",
    "# ls= input().split(' ')\n",
    "# 내용을 채워주세요.\n",
    "ls = [1, 3, 4, 2, 5,7]\n",
    "print(quick_sort(ls))"
   ]
  },
  {
   "cell_type": "code",
   "execution_count": 1,
   "metadata": {},
   "outputs": [
    {
     "name": "stdout",
     "output_type": "stream",
     "text": [
      "0\n",
      "1\n",
      "2\n",
      "3\n",
      "4\n",
      "5\n"
     ]
    }
   ],
   "source": [
    "for i in range(6):\n",
    "    print(i)"
   ]
  },
  {
   "cell_type": "markdown",
   "metadata": {},
   "source": [
    "## 53: 괄호 문자열\n",
    "- 괄호 문자열이란 괄호 기호인{ } [ ] () 와 같은 것을 말한다. 그 중 괄호의 모양이 바르게 구성된 문자열을 바른문자열, 그렇지 않은 문자열을 바르지 않은 문자열이라고 부르도록 하자.\n",
    "\n",
    "- (())와 같은 문자열은 바른 문자열이지만 ()()) 와 같은 문자열은 바르지 않은 문자열이다.(해당 문제에서는 소괄호만 판별하지만, 실력이 되시는 분들은 중괄호와 대괄호까지 판별해보세요.)\n",
    "\n",
    "- 입력으로 주어진 괄혼 문자열인 바른 문자열인지 바르지 않은 문자열인지 yes 와 no로 구분된 문자열을 출력해보자.\n"
   ]
  },
  {
   "cell_type": "code",
   "execution_count": 30,
   "metadata": {},
   "outputs": [
    {
     "name": "stdout",
     "output_type": "stream",
     "text": [
      "())\n",
      "NO\n"
     ]
    }
   ],
   "source": [
    "a= input()\n",
    "try:\n",
    "    eval(a)\n",
    "    print(\"Yes\")\n",
    "except Exception as e:\n",
    "    print(\"NO\")\n"
   ]
  },
  {
   "cell_type": "markdown",
   "metadata": {},
   "source": [
    "## 54 : 연속되는 수\n",
    "- 은주는 놀이공원 아르바이트를 하고 있습니다. 은주가 일하는 놀이공원에서는 현재 놀이공원 곳곳에 숨겨진 숫자 스탬프를 모아 오면 선물을 주는 이벤트를 하고 있습니다. 숫자 스탬프는 매일 그 수와 스탬프에 적힌 숫자가 바뀌지만 그 숫자는 항상 연속됩니다.그런데 요즘 다른 날에 찍은 스탬프를 가지고 와 선물을 달라고 하는 손님들이 늘었습니다.\n",
    "\n",
    "- 스탬프에 적힌 숫자가 공백으로 구분되어 주어지면 이 숫자가 연속수인지 아닌지 yes, no로 판별하는 프로그램을 작성하세요"
   ]
  },
  {
   "cell_type": "code",
   "execution_count": 50,
   "metadata": {},
   "outputs": [
    {
     "name": "stdout",
     "output_type": "stream",
     "text": [
      "8 6 7 9\n",
      "yes\n"
     ]
    }
   ],
   "source": [
    "b = list(map(lambda x : int(x), input().split(\" \")))\n",
    "if (max(b)-min(b)+1) == len(b):\n",
    "    print(\"yes\")\n",
    "else:\n",
    "    print(\"no\")"
   ]
  },
  {
   "cell_type": "markdown",
   "metadata": {},
   "source": [
    "## 55 : 하노이의 탑\n",
    "하노이의 탑은 프랑스 수학자 에두아르드가 처음으로 발표한 게임입니다. 하오니의 탑은 A, B, C 3개의 기둥과 기둥에 꽂을 수 있는 N개의 원판으로 이루어져 있습니다. 이게임에서 다음의 규칙을 만족해야 합니다.\n",
    "\n",
    "1. 처음에 모든 원판은 A기둥에 꽂혀 있다.\n",
    "2. 모든 원판의 지름은 다르다.\n",
    "3. 이 원반은 세개의 기둥 중 하나에 반드시 꽂혀야 한다.\n",
    "4. 작은 원반 위에 큰 원반을 놓을 수 없다.\n",
    "5. 한 번에 하나의 원판(가장 위에 있는 원판) 만을 옮길 수 있다."
   ]
  },
  {
   "cell_type": "markdown",
   "metadata": {},
   "source": [
    "```\n",
    "원판의 이동경로 = []\n",
    "def 하노이(원반의 수, 시작기둥, 목표기둥, 보조기둥):\n",
    "    # 원판이 한개 일 때에는 옮기면 됩니다.\n",
    "    if 원반의 수 == 1:\n",
    "        원판의이동경로.append([시작기둥, 목표기둥])\n",
    "        return None\n",
    "    # 원반의 n-1개를 경유 기둥으로 옮기고\n",
    "    하노이(#내용을 채워주세요.)\n",
    "    \n",
    "    #가장 큰원반은 목표기둥으로\n",
    "    원판의이동경로.append(#내용삽입)\n",
    "    #경유기둥과 시작기둥을 바꿉니다!\n",
    "    하노이(#내용삽입)\n",
    "        \n",
    "user_input = int(input())\n",
    "하노이(user_input, 'A', 'C', 'B')\n",
    "        \n",
    "print(len(원판의 이동경로))\n",
    "```"
   ]
  },
  {
   "cell_type": "code",
   "execution_count": 28,
   "metadata": {},
   "outputs": [
    {
     "name": "stdout",
     "output_type": "stream",
     "text": [
      "6\n",
      "63\n"
     ]
    }
   ],
   "source": [
    "c_mv = []\n",
    "def hanoi(c_cnt, start, purpose, sub):\n",
    "    # 원판이 한개 일 때에는 옮기면 됩니다.\n",
    "    if c_cnt == 1:\n",
    "        c_mv.append([start, purpose])\n",
    "        return None\n",
    "    # 원반의 n-1개를 경유 기둥으로 옮기고\n",
    "    hanoi(c_cnt-1, start, sub, purpose)\n",
    "\n",
    "    #가장 큰원반은 목표기둥으로\n",
    "    c_mv.append([start, purpose])\n",
    "    #경유기둥과 시작기둥을 바꿉니다!\n",
    "    hanoi(c_cnt-1, sub, purpose, start)\n",
    "    \n",
    "user_input = int(input())\n",
    "hanoi(user_input, 'A', 'C', 'B')\n",
    "\n",
    "print(len(c_mv))"
   ]
  },
  {
   "cell_type": "code",
   "execution_count": 8,
   "metadata": {},
   "outputs": [],
   "source": [
    "MSG_FORMAT = \"{}번 원반을 {}에서 {}로 이동\"\n",
    "\n",
    "\n",
    "def move(N, start, to):\n",
    "    print(MSG_FORMAT.format(N, start, to))"
   ]
  },
  {
   "cell_type": "code",
   "execution_count": 17,
   "metadata": {},
   "outputs": [],
   "source": [
    "def hanoi(N, start, to, via):\n",
    "    if N == 1:\n",
    "        move(1, start, to)\n",
    "    else:\n",
    "        hanoi(N-1, start, via, to)\n",
    "        move(N, start, to)\n",
    "        hanoi(N-1, via, to, start)"
   ]
  },
  {
   "cell_type": "code",
   "execution_count": 22,
   "metadata": {},
   "outputs": [
    {
     "name": "stdout",
     "output_type": "stream",
     "text": [
      "1번 원반을 A에서 C로 이동\n",
      "2번 원반을 A에서 B로 이동\n",
      "1번 원반을 C에서 B로 이동\n",
      "3번 원반을 A에서 C로 이동\n",
      "1번 원반을 B에서 A로 이동\n",
      "2번 원반을 B에서 C로 이동\n",
      "1번 원반을 A에서 C로 이동\n",
      "4번 원반을 A에서 B로 이동\n",
      "1번 원반을 C에서 B로 이동\n",
      "2번 원반을 C에서 A로 이동\n",
      "1번 원반을 B에서 A로 이동\n",
      "3번 원반을 C에서 B로 이동\n",
      "1번 원반을 A에서 C로 이동\n",
      "2번 원반을 A에서 B로 이동\n",
      "1번 원반을 C에서 B로 이동\n",
      "5번 원반을 A에서 C로 이동\n",
      "1번 원반을 B에서 A로 이동\n",
      "2번 원반을 B에서 C로 이동\n",
      "1번 원반을 A에서 C로 이동\n",
      "3번 원반을 B에서 A로 이동\n",
      "1번 원반을 C에서 B로 이동\n",
      "2번 원반을 C에서 A로 이동\n",
      "1번 원반을 B에서 A로 이동\n",
      "4번 원반을 B에서 C로 이동\n",
      "1번 원반을 A에서 C로 이동\n",
      "2번 원반을 A에서 B로 이동\n",
      "1번 원반을 C에서 B로 이동\n",
      "3번 원반을 A에서 C로 이동\n",
      "1번 원반을 B에서 A로 이동\n",
      "2번 원반을 B에서 C로 이동\n",
      "1번 원반을 A에서 C로 이동\n"
     ]
    }
   ],
   "source": [
    "hanoi(5, \"A\", \"C\", \"B\")"
   ]
  },
  {
   "cell_type": "code",
   "execution_count": null,
   "metadata": {},
   "outputs": [],
   "source": []
  }
 ],
 "metadata": {
  "kernelspec": {
   "display_name": "Python 3",
   "language": "python",
   "name": "python3"
  },
  "language_info": {
   "codemirror_mode": {
    "name": "ipython",
    "version": 3
   },
   "file_extension": ".py",
   "mimetype": "text/x-python",
   "name": "python",
   "nbconvert_exporter": "python",
   "pygments_lexer": "ipython3",
   "version": "3.7.6"
  },
  "toc": {
   "base_numbering": 1,
   "nav_menu": {},
   "number_sections": true,
   "sideBar": true,
   "skip_h1_title": false,
   "title_cell": "Table of Contents",
   "title_sidebar": "Contents",
   "toc_cell": false,
   "toc_position": {},
   "toc_section_display": true,
   "toc_window_display": false
  }
 },
 "nbformat": 4,
 "nbformat_minor": 4
}
